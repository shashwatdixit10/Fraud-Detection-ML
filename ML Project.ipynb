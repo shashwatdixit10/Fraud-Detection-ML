{
  "nbformat": 4,
  "nbformat_minor": 0,
  "metadata": {
    "colab": {
      "provenance": []
    },
    "kernelspec": {
      "name": "python3",
      "display_name": "Python 3"
    },
    "language_info": {
      "name": "python"
    }
  },
  "cells": [
    {
      "cell_type": "code",
      "execution_count": null,
      "metadata": {
        "id": "9MA5MyVCZiDm"
      },
      "outputs": [],
      "source": [
        "from google.colab import drive"
      ]
    },
    {
      "cell_type": "code",
      "source": [
        "drive.mount('/content/drive')"
      ],
      "metadata": {
        "colab": {
          "base_uri": "https://localhost:8080/"
        },
        "id": "2QFxhJ8Tva6v",
        "outputId": "0b075df9-b632-4e71-d0ef-895a5e80203e"
      },
      "execution_count": null,
      "outputs": [
        {
          "output_type": "stream",
          "name": "stdout",
          "text": [
            "Mounted at /content/drive\n"
          ]
        }
      ]
    },
    {
      "cell_type": "code",
      "source": [
        "from google.colab import drive\n",
        "drive.mount('/content/drive')"
      ],
      "metadata": {
        "colab": {
          "base_uri": "https://localhost:8080/"
        },
        "id": "hpNmcItJAyXP",
        "outputId": "6e9777fa-ce84-4f18-aecb-359697d8e574"
      },
      "execution_count": null,
      "outputs": [
        {
          "output_type": "stream",
          "name": "stdout",
          "text": [
            "Drive already mounted at /content/drive; to attempt to forcibly remount, call drive.mount(\"/content/drive\", force_remount=True).\n"
          ]
        }
      ]
    },
    {
      "cell_type": "code",
      "source": [
        "import pandas as pd"
      ],
      "metadata": {
        "id": "Ht_N6Hetvpyf"
      },
      "execution_count": null,
      "outputs": []
    },
    {
      "cell_type": "code",
      "source": [
        "data = pd.read_csv('/content/drive/MyDrive/data/Fraud Analytics Dataset - npci_data.csv.csv')"
      ],
      "metadata": {
        "id": "uZHi1T9AwS9r"
      },
      "execution_count": null,
      "outputs": []
    },
    {
      "cell_type": "code",
      "source": [
        "import numpy as np"
      ],
      "metadata": {
        "id": "v__EDdo1wltF"
      },
      "execution_count": null,
      "outputs": []
    },
    {
      "cell_type": "code",
      "source": [],
      "metadata": {
        "id": "n8CnHvL_wpn8"
      },
      "execution_count": null,
      "outputs": []
    },
    {
      "cell_type": "code",
      "source": [
        "data.head()"
      ],
      "metadata": {
        "id": "VJ-rD1AGwsYu",
        "colab": {
          "base_uri": "https://localhost:8080/",
          "height": 446
        },
        "outputId": "2006446d-ce04-4e61-d96d-95401081c986"
      },
      "execution_count": null,
      "outputs": [
        {
          "output_type": "execute_result",
          "data": {
            "text/plain": [
              "   txn_id dt_txn_comp txn_comp_time    txn_type              txn_subtype  \\\n",
              "0     436  2023-08-11   12:00:00 AM      Refund           Product Refund   \n",
              "1     665  2021-10-17   12:00:00 AM     Payment       Peer-to-Peer (P2P)   \n",
              "2     726  2019-11-16   12:00:00 AM  Withdrawal           ATM Withdrawal   \n",
              "3     842  2023-09-05   12:00:00 AM    Transfer      Inter-bank Transfer   \n",
              "4    2202  2021-09-18   12:00:00 AM         Fee  Account Maintenance Fee   \n",
              "\n",
              "   initiating_channel_id  txn_status error_code      payer_psp  \\\n",
              "0                      4  Successful        NaN     Amazon Pay   \n",
              "1                     16  Successful        NaN  ICICI iMobile   \n",
              "2                      3  Successful        NaN       Axis Pay   \n",
              "3                      0  Successful        NaN       MobiKwik   \n",
              "4                      1  Successful        NaN     MasterCard   \n",
              "\n",
              "                                 payee_psp  ... remitter_mcc_code  \\\n",
              "0  BharatPe (for UPI and QR code payments)  ...              6051   \n",
              "1  Square (for international transactions)  ...              5966   \n",
              "2                    PhonePe for Merchants  ...              5047   \n",
              "3                  ICICI Merchant Services  ...               822   \n",
              "4  BharatPe (for UPI and QR code payments)  ...              5978   \n",
              "\n",
              "  custref_transaction_ref      cred_type             cred_subtype  \\\n",
              "0           Reference 324     Debit Card       Prepaid Debit Card   \n",
              "1           Reference 550      Overdraft       Business Overdraft   \n",
              "2           Reference 611      Auto Loan            Used Car Loan   \n",
              "3           Reference 729      Overdraft       Personal Overdraft   \n",
              "4          Reference 2068  Personal Loan  Unsecured Personal Loan   \n",
              "\n",
              "              payer_app_id             payee_app_id  initiation_mode  \\\n",
              "0  BHIM Union Bank UPI App                AmazonPay               18   \n",
              "1                     ESAF  BHIM Union Bank UPI App               18   \n",
              "2            ICICI iMobile           BHIM Indus Pay               16   \n",
              "3             BHIM UPI APP      JusPay Technologies                2   \n",
              "4             PREPAIDICICI                     Cred                1   \n",
              "\n",
              "   dt_time_txn_compl  time_of_day @dropdown  \n",
              "0    2023-08-11 0:00        Night       NaN  \n",
              "1    2021-10-17 0:00        Night       NaN  \n",
              "2    2019-11-16 0:00        Night       NaN  \n",
              "3    2023-09-05 0:00        Night       NaN  \n",
              "4    2021-09-18 0:00        Night       NaN  \n",
              "\n",
              "[5 rows x 37 columns]"
            ],
            "text/html": [
              "\n",
              "  <div id=\"df-5c7934e1-c8fa-4e2f-bb1d-f14c5c01b88e\" class=\"colab-df-container\">\n",
              "    <div>\n",
              "<style scoped>\n",
              "    .dataframe tbody tr th:only-of-type {\n",
              "        vertical-align: middle;\n",
              "    }\n",
              "\n",
              "    .dataframe tbody tr th {\n",
              "        vertical-align: top;\n",
              "    }\n",
              "\n",
              "    .dataframe thead th {\n",
              "        text-align: right;\n",
              "    }\n",
              "</style>\n",
              "<table border=\"1\" class=\"dataframe\">\n",
              "  <thead>\n",
              "    <tr style=\"text-align: right;\">\n",
              "      <th></th>\n",
              "      <th>txn_id</th>\n",
              "      <th>dt_txn_comp</th>\n",
              "      <th>txn_comp_time</th>\n",
              "      <th>txn_type</th>\n",
              "      <th>txn_subtype</th>\n",
              "      <th>initiating_channel_id</th>\n",
              "      <th>txn_status</th>\n",
              "      <th>error_code</th>\n",
              "      <th>payer_psp</th>\n",
              "      <th>payee_psp</th>\n",
              "      <th>...</th>\n",
              "      <th>remitter_mcc_code</th>\n",
              "      <th>custref_transaction_ref</th>\n",
              "      <th>cred_type</th>\n",
              "      <th>cred_subtype</th>\n",
              "      <th>payer_app_id</th>\n",
              "      <th>payee_app_id</th>\n",
              "      <th>initiation_mode</th>\n",
              "      <th>dt_time_txn_compl</th>\n",
              "      <th>time_of_day</th>\n",
              "      <th>@dropdown</th>\n",
              "    </tr>\n",
              "  </thead>\n",
              "  <tbody>\n",
              "    <tr>\n",
              "      <th>0</th>\n",
              "      <td>436</td>\n",
              "      <td>2023-08-11</td>\n",
              "      <td>12:00:00 AM</td>\n",
              "      <td>Refund</td>\n",
              "      <td>Product Refund</td>\n",
              "      <td>4</td>\n",
              "      <td>Successful</td>\n",
              "      <td>NaN</td>\n",
              "      <td>Amazon Pay</td>\n",
              "      <td>BharatPe (for UPI and QR code payments)</td>\n",
              "      <td>...</td>\n",
              "      <td>6051</td>\n",
              "      <td>Reference 324</td>\n",
              "      <td>Debit Card</td>\n",
              "      <td>Prepaid Debit Card</td>\n",
              "      <td>BHIM Union Bank UPI App</td>\n",
              "      <td>AmazonPay</td>\n",
              "      <td>18</td>\n",
              "      <td>2023-08-11 0:00</td>\n",
              "      <td>Night</td>\n",
              "      <td>NaN</td>\n",
              "    </tr>\n",
              "    <tr>\n",
              "      <th>1</th>\n",
              "      <td>665</td>\n",
              "      <td>2021-10-17</td>\n",
              "      <td>12:00:00 AM</td>\n",
              "      <td>Payment</td>\n",
              "      <td>Peer-to-Peer (P2P)</td>\n",
              "      <td>16</td>\n",
              "      <td>Successful</td>\n",
              "      <td>NaN</td>\n",
              "      <td>ICICI iMobile</td>\n",
              "      <td>Square (for international transactions)</td>\n",
              "      <td>...</td>\n",
              "      <td>5966</td>\n",
              "      <td>Reference 550</td>\n",
              "      <td>Overdraft</td>\n",
              "      <td>Business Overdraft</td>\n",
              "      <td>ESAF</td>\n",
              "      <td>BHIM Union Bank UPI App</td>\n",
              "      <td>18</td>\n",
              "      <td>2021-10-17 0:00</td>\n",
              "      <td>Night</td>\n",
              "      <td>NaN</td>\n",
              "    </tr>\n",
              "    <tr>\n",
              "      <th>2</th>\n",
              "      <td>726</td>\n",
              "      <td>2019-11-16</td>\n",
              "      <td>12:00:00 AM</td>\n",
              "      <td>Withdrawal</td>\n",
              "      <td>ATM Withdrawal</td>\n",
              "      <td>3</td>\n",
              "      <td>Successful</td>\n",
              "      <td>NaN</td>\n",
              "      <td>Axis Pay</td>\n",
              "      <td>PhonePe for Merchants</td>\n",
              "      <td>...</td>\n",
              "      <td>5047</td>\n",
              "      <td>Reference 611</td>\n",
              "      <td>Auto Loan</td>\n",
              "      <td>Used Car Loan</td>\n",
              "      <td>ICICI iMobile</td>\n",
              "      <td>BHIM Indus Pay</td>\n",
              "      <td>16</td>\n",
              "      <td>2019-11-16 0:00</td>\n",
              "      <td>Night</td>\n",
              "      <td>NaN</td>\n",
              "    </tr>\n",
              "    <tr>\n",
              "      <th>3</th>\n",
              "      <td>842</td>\n",
              "      <td>2023-09-05</td>\n",
              "      <td>12:00:00 AM</td>\n",
              "      <td>Transfer</td>\n",
              "      <td>Inter-bank Transfer</td>\n",
              "      <td>0</td>\n",
              "      <td>Successful</td>\n",
              "      <td>NaN</td>\n",
              "      <td>MobiKwik</td>\n",
              "      <td>ICICI Merchant Services</td>\n",
              "      <td>...</td>\n",
              "      <td>822</td>\n",
              "      <td>Reference 729</td>\n",
              "      <td>Overdraft</td>\n",
              "      <td>Personal Overdraft</td>\n",
              "      <td>BHIM UPI APP</td>\n",
              "      <td>JusPay Technologies</td>\n",
              "      <td>2</td>\n",
              "      <td>2023-09-05 0:00</td>\n",
              "      <td>Night</td>\n",
              "      <td>NaN</td>\n",
              "    </tr>\n",
              "    <tr>\n",
              "      <th>4</th>\n",
              "      <td>2202</td>\n",
              "      <td>2021-09-18</td>\n",
              "      <td>12:00:00 AM</td>\n",
              "      <td>Fee</td>\n",
              "      <td>Account Maintenance Fee</td>\n",
              "      <td>1</td>\n",
              "      <td>Successful</td>\n",
              "      <td>NaN</td>\n",
              "      <td>MasterCard</td>\n",
              "      <td>BharatPe (for UPI and QR code payments)</td>\n",
              "      <td>...</td>\n",
              "      <td>5978</td>\n",
              "      <td>Reference 2068</td>\n",
              "      <td>Personal Loan</td>\n",
              "      <td>Unsecured Personal Loan</td>\n",
              "      <td>PREPAIDICICI</td>\n",
              "      <td>Cred</td>\n",
              "      <td>1</td>\n",
              "      <td>2021-09-18 0:00</td>\n",
              "      <td>Night</td>\n",
              "      <td>NaN</td>\n",
              "    </tr>\n",
              "  </tbody>\n",
              "</table>\n",
              "<p>5 rows × 37 columns</p>\n",
              "</div>\n",
              "    <div class=\"colab-df-buttons\">\n",
              "\n",
              "  <div class=\"colab-df-container\">\n",
              "    <button class=\"colab-df-convert\" onclick=\"convertToInteractive('df-5c7934e1-c8fa-4e2f-bb1d-f14c5c01b88e')\"\n",
              "            title=\"Convert this dataframe to an interactive table.\"\n",
              "            style=\"display:none;\">\n",
              "\n",
              "  <svg xmlns=\"http://www.w3.org/2000/svg\" height=\"24px\" viewBox=\"0 -960 960 960\">\n",
              "    <path d=\"M120-120v-720h720v720H120Zm60-500h600v-160H180v160Zm220 220h160v-160H400v160Zm0 220h160v-160H400v160ZM180-400h160v-160H180v160Zm440 0h160v-160H620v160ZM180-180h160v-160H180v160Zm440 0h160v-160H620v160Z\"/>\n",
              "  </svg>\n",
              "    </button>\n",
              "\n",
              "  <style>\n",
              "    .colab-df-container {\n",
              "      display:flex;\n",
              "      gap: 12px;\n",
              "    }\n",
              "\n",
              "    .colab-df-convert {\n",
              "      background-color: #E8F0FE;\n",
              "      border: none;\n",
              "      border-radius: 50%;\n",
              "      cursor: pointer;\n",
              "      display: none;\n",
              "      fill: #1967D2;\n",
              "      height: 32px;\n",
              "      padding: 0 0 0 0;\n",
              "      width: 32px;\n",
              "    }\n",
              "\n",
              "    .colab-df-convert:hover {\n",
              "      background-color: #E2EBFA;\n",
              "      box-shadow: 0px 1px 2px rgba(60, 64, 67, 0.3), 0px 1px 3px 1px rgba(60, 64, 67, 0.15);\n",
              "      fill: #174EA6;\n",
              "    }\n",
              "\n",
              "    .colab-df-buttons div {\n",
              "      margin-bottom: 4px;\n",
              "    }\n",
              "\n",
              "    [theme=dark] .colab-df-convert {\n",
              "      background-color: #3B4455;\n",
              "      fill: #D2E3FC;\n",
              "    }\n",
              "\n",
              "    [theme=dark] .colab-df-convert:hover {\n",
              "      background-color: #434B5C;\n",
              "      box-shadow: 0px 1px 3px 1px rgba(0, 0, 0, 0.15);\n",
              "      filter: drop-shadow(0px 1px 2px rgba(0, 0, 0, 0.3));\n",
              "      fill: #FFFFFF;\n",
              "    }\n",
              "  </style>\n",
              "\n",
              "    <script>\n",
              "      const buttonEl =\n",
              "        document.querySelector('#df-5c7934e1-c8fa-4e2f-bb1d-f14c5c01b88e button.colab-df-convert');\n",
              "      buttonEl.style.display =\n",
              "        google.colab.kernel.accessAllowed ? 'block' : 'none';\n",
              "\n",
              "      async function convertToInteractive(key) {\n",
              "        const element = document.querySelector('#df-5c7934e1-c8fa-4e2f-bb1d-f14c5c01b88e');\n",
              "        const dataTable =\n",
              "          await google.colab.kernel.invokeFunction('convertToInteractive',\n",
              "                                                    [key], {});\n",
              "        if (!dataTable) return;\n",
              "\n",
              "        const docLinkHtml = 'Like what you see? Visit the ' +\n",
              "          '<a target=\"_blank\" href=https://colab.research.google.com/notebooks/data_table.ipynb>data table notebook</a>'\n",
              "          + ' to learn more about interactive tables.';\n",
              "        element.innerHTML = '';\n",
              "        dataTable['output_type'] = 'display_data';\n",
              "        await google.colab.output.renderOutput(dataTable, element);\n",
              "        const docLink = document.createElement('div');\n",
              "        docLink.innerHTML = docLinkHtml;\n",
              "        element.appendChild(docLink);\n",
              "      }\n",
              "    </script>\n",
              "  </div>\n",
              "\n",
              "\n",
              "<div id=\"df-dc3f9b4c-a70e-4be6-9588-3e51092d8785\">\n",
              "  <button class=\"colab-df-quickchart\" onclick=\"quickchart('df-dc3f9b4c-a70e-4be6-9588-3e51092d8785')\"\n",
              "            title=\"Suggest charts\"\n",
              "            style=\"display:none;\">\n",
              "\n",
              "<svg xmlns=\"http://www.w3.org/2000/svg\" height=\"24px\"viewBox=\"0 0 24 24\"\n",
              "     width=\"24px\">\n",
              "    <g>\n",
              "        <path d=\"M19 3H5c-1.1 0-2 .9-2 2v14c0 1.1.9 2 2 2h14c1.1 0 2-.9 2-2V5c0-1.1-.9-2-2-2zM9 17H7v-7h2v7zm4 0h-2V7h2v10zm4 0h-2v-4h2v4z\"/>\n",
              "    </g>\n",
              "</svg>\n",
              "  </button>\n",
              "\n",
              "<style>\n",
              "  .colab-df-quickchart {\n",
              "      --bg-color: #E8F0FE;\n",
              "      --fill-color: #1967D2;\n",
              "      --hover-bg-color: #E2EBFA;\n",
              "      --hover-fill-color: #174EA6;\n",
              "      --disabled-fill-color: #AAA;\n",
              "      --disabled-bg-color: #DDD;\n",
              "  }\n",
              "\n",
              "  [theme=dark] .colab-df-quickchart {\n",
              "      --bg-color: #3B4455;\n",
              "      --fill-color: #D2E3FC;\n",
              "      --hover-bg-color: #434B5C;\n",
              "      --hover-fill-color: #FFFFFF;\n",
              "      --disabled-bg-color: #3B4455;\n",
              "      --disabled-fill-color: #666;\n",
              "  }\n",
              "\n",
              "  .colab-df-quickchart {\n",
              "    background-color: var(--bg-color);\n",
              "    border: none;\n",
              "    border-radius: 50%;\n",
              "    cursor: pointer;\n",
              "    display: none;\n",
              "    fill: var(--fill-color);\n",
              "    height: 32px;\n",
              "    padding: 0;\n",
              "    width: 32px;\n",
              "  }\n",
              "\n",
              "  .colab-df-quickchart:hover {\n",
              "    background-color: var(--hover-bg-color);\n",
              "    box-shadow: 0 1px 2px rgba(60, 64, 67, 0.3), 0 1px 3px 1px rgba(60, 64, 67, 0.15);\n",
              "    fill: var(--button-hover-fill-color);\n",
              "  }\n",
              "\n",
              "  .colab-df-quickchart-complete:disabled,\n",
              "  .colab-df-quickchart-complete:disabled:hover {\n",
              "    background-color: var(--disabled-bg-color);\n",
              "    fill: var(--disabled-fill-color);\n",
              "    box-shadow: none;\n",
              "  }\n",
              "\n",
              "  .colab-df-spinner {\n",
              "    border: 2px solid var(--fill-color);\n",
              "    border-color: transparent;\n",
              "    border-bottom-color: var(--fill-color);\n",
              "    animation:\n",
              "      spin 1s steps(1) infinite;\n",
              "  }\n",
              "\n",
              "  @keyframes spin {\n",
              "    0% {\n",
              "      border-color: transparent;\n",
              "      border-bottom-color: var(--fill-color);\n",
              "      border-left-color: var(--fill-color);\n",
              "    }\n",
              "    20% {\n",
              "      border-color: transparent;\n",
              "      border-left-color: var(--fill-color);\n",
              "      border-top-color: var(--fill-color);\n",
              "    }\n",
              "    30% {\n",
              "      border-color: transparent;\n",
              "      border-left-color: var(--fill-color);\n",
              "      border-top-color: var(--fill-color);\n",
              "      border-right-color: var(--fill-color);\n",
              "    }\n",
              "    40% {\n",
              "      border-color: transparent;\n",
              "      border-right-color: var(--fill-color);\n",
              "      border-top-color: var(--fill-color);\n",
              "    }\n",
              "    60% {\n",
              "      border-color: transparent;\n",
              "      border-right-color: var(--fill-color);\n",
              "    }\n",
              "    80% {\n",
              "      border-color: transparent;\n",
              "      border-right-color: var(--fill-color);\n",
              "      border-bottom-color: var(--fill-color);\n",
              "    }\n",
              "    90% {\n",
              "      border-color: transparent;\n",
              "      border-bottom-color: var(--fill-color);\n",
              "    }\n",
              "  }\n",
              "</style>\n",
              "\n",
              "  <script>\n",
              "    async function quickchart(key) {\n",
              "      const quickchartButtonEl =\n",
              "        document.querySelector('#' + key + ' button');\n",
              "      quickchartButtonEl.disabled = true;  // To prevent multiple clicks.\n",
              "      quickchartButtonEl.classList.add('colab-df-spinner');\n",
              "      try {\n",
              "        const charts = await google.colab.kernel.invokeFunction(\n",
              "            'suggestCharts', [key], {});\n",
              "      } catch (error) {\n",
              "        console.error('Error during call to suggestCharts:', error);\n",
              "      }\n",
              "      quickchartButtonEl.classList.remove('colab-df-spinner');\n",
              "      quickchartButtonEl.classList.add('colab-df-quickchart-complete');\n",
              "    }\n",
              "    (() => {\n",
              "      let quickchartButtonEl =\n",
              "        document.querySelector('#df-dc3f9b4c-a70e-4be6-9588-3e51092d8785 button');\n",
              "      quickchartButtonEl.style.display =\n",
              "        google.colab.kernel.accessAllowed ? 'block' : 'none';\n",
              "    })();\n",
              "  </script>\n",
              "</div>\n",
              "\n",
              "    </div>\n",
              "  </div>\n"
            ],
            "application/vnd.google.colaboratory.intrinsic+json": {
              "type": "dataframe",
              "variable_name": "data"
            }
          },
          "metadata": {},
          "execution_count": 6
        }
      ]
    },
    {
      "cell_type": "code",
      "source": [
        "data['txn_subtype'].value_counts()"
      ],
      "metadata": {
        "id": "fw8ERbjUPfJm",
        "colab": {
          "base_uri": "https://localhost:8080/"
        },
        "outputId": "7b434fe7-9d8f-4901-86bd-426da684aa7c"
      },
      "execution_count": null,
      "outputs": [
        {
          "output_type": "execute_result",
          "data": {
            "text/plain": [
              "txn_subtype\n",
              "Service Refund                  3675\n",
              "Inter-bank Transfer             3672\n",
              "Merchant Payment                3648\n",
              "Bill Payment                    3612\n",
              "Product Refund                  3603\n",
              "Fraudulent Transaction          3585\n",
              "Peer-to-Peer (P2P)              3546\n",
              "Intra-bank Transfer             3546\n",
              "Account Maintenance Fee         3537\n",
              "ATM Withdrawal                  3510\n",
              "Transaction Fee                 3507\n",
              "Cash Deposit                    3486\n",
              "Transaction Error Correction    3468\n",
              "Cheque Deposit                  3420\n",
              "Branch Withdrawal               3375\n",
              "International Transfer          2481\n",
              "Name: count, dtype: int64"
            ]
          },
          "metadata": {},
          "execution_count": 11
        }
      ]
    },
    {
      "cell_type": "code",
      "source": [
        "data.info()"
      ],
      "metadata": {
        "colab": {
          "base_uri": "https://localhost:8080/"
        },
        "id": "GFGLPe39DBhm",
        "outputId": "49db938f-e6d6-4001-fe37-0724aa3b4f10"
      },
      "execution_count": null,
      "outputs": [
        {
          "output_type": "stream",
          "name": "stdout",
          "text": [
            "<class 'pandas.core.frame.DataFrame'>\n",
            "RangeIndex: 55671 entries, 0 to 55670\n",
            "Data columns (total 37 columns):\n",
            " #   Column                   Non-Null Count  Dtype  \n",
            "---  ------                   --------------  -----  \n",
            " 0   txn_id                   55671 non-null  int64  \n",
            " 1   dt_txn_comp              55671 non-null  object \n",
            " 2   txn_comp_time            55671 non-null  object \n",
            " 3   txn_type                 55671 non-null  object \n",
            " 4   txn_subtype              55671 non-null  object \n",
            " 5   initiating_channel_id    55671 non-null  int64  \n",
            " 6   txn_status               55671 non-null  object \n",
            " 7   error_code               4903 non-null   object \n",
            " 8   payer_psp                55671 non-null  object \n",
            " 9   payee_psp                55671 non-null  object \n",
            " 10  remitter_bank            55671 non-null  object \n",
            " 11  beneficiary_bank         55671 non-null  object \n",
            " 12  payer_handle             55671 non-null  object \n",
            " 13  payer_app                55671 non-null  object \n",
            " 14  payee_handle             55671 non-null  object \n",
            " 15  payee_app                55671 non-null  object \n",
            " 16  payee_requested_amount   55671 non-null  int64  \n",
            " 17  payee_settlement_amount  55671 non-null  int64  \n",
            " 18  payer_location           55671 non-null  int64  \n",
            " 19  payer_city               55671 non-null  object \n",
            " 20  payer_state              55671 non-null  object \n",
            " 21  payee_location           55671 non-null  int64  \n",
            " 22  payee_city               55671 non-null  object \n",
            " 23  payee_state              55671 non-null  object \n",
            " 24  payer_os_type            55671 non-null  object \n",
            " 25  payee_os_type            55671 non-null  object \n",
            " 26  beneficiary_mcc_code     55671 non-null  int64  \n",
            " 27  remitter_mcc_code        55671 non-null  int64  \n",
            " 28  custref_transaction_ref  55671 non-null  object \n",
            " 29  cred_type                55671 non-null  object \n",
            " 30  cred_subtype             55671 non-null  object \n",
            " 31  payer_app_id             55671 non-null  object \n",
            " 32  payee_app_id             55671 non-null  object \n",
            " 33  initiation_mode          55671 non-null  int64  \n",
            " 34  dt_time_txn_compl        55671 non-null  object \n",
            " 35  time_of_day              55671 non-null  object \n",
            " 36  @dropdown                0 non-null      float64\n",
            "dtypes: float64(1), int64(9), object(27)\n",
            "memory usage: 15.7+ MB\n"
          ]
        }
      ]
    },
    {
      "cell_type": "code",
      "source": [
        "data.isnull().sum()"
      ],
      "metadata": {
        "colab": {
          "base_uri": "https://localhost:8080/"
        },
        "id": "-lHVvWT6Dd-i",
        "outputId": "f233c318-96bb-4956-9f21-d0d8ccaac1af"
      },
      "execution_count": null,
      "outputs": [
        {
          "output_type": "execute_result",
          "data": {
            "text/plain": [
              "txn_id                         0\n",
              "dt_txn_comp                    0\n",
              "txn_comp_time                  0\n",
              "txn_type                       0\n",
              "txn_subtype                    0\n",
              "initiating_channel_id          0\n",
              "txn_status                     0\n",
              "error_code                 50768\n",
              "payer_psp                      0\n",
              "payee_psp                      0\n",
              "remitter_bank                  0\n",
              "beneficiary_bank               0\n",
              "payer_handle                   0\n",
              "payer_app                      0\n",
              "payee_handle                   0\n",
              "payee_app                      0\n",
              "payee_requested_amount         0\n",
              "payee_settlement_amount        0\n",
              "payer_location                 0\n",
              "payer_city                     0\n",
              "payer_state                    0\n",
              "payee_location                 0\n",
              "payee_city                     0\n",
              "payee_state                    0\n",
              "payer_os_type                  0\n",
              "payee_os_type                  0\n",
              "beneficiary_mcc_code           0\n",
              "remitter_mcc_code              0\n",
              "custref_transaction_ref        0\n",
              "cred_type                      0\n",
              "cred_subtype                   0\n",
              "payer_app_id                   0\n",
              "payee_app_id                   0\n",
              "initiation_mode                0\n",
              "dt_time_txn_compl              0\n",
              "time_of_day                    0\n",
              "@dropdown                  55671\n",
              "dtype: int64"
            ]
          },
          "metadata": {},
          "execution_count": 13
        }
      ]
    },
    {
      "cell_type": "code",
      "source": [
        "data.shape"
      ],
      "metadata": {
        "colab": {
          "base_uri": "https://localhost:8080/"
        },
        "id": "pgzfs-nuDvba",
        "outputId": "fddb6c43-2576-4908-a2b4-be516a4f0b7f"
      },
      "execution_count": null,
      "outputs": [
        {
          "output_type": "execute_result",
          "data": {
            "text/plain": [
              "(55671, 37)"
            ]
          },
          "metadata": {},
          "execution_count": 14
        }
      ]
    },
    {
      "cell_type": "code",
      "source": [
        "missing_values = data.isnull().sum()"
      ],
      "metadata": {
        "id": "HdnaIXdED3OX"
      },
      "execution_count": null,
      "outputs": []
    },
    {
      "cell_type": "code",
      "source": [
        "print(missing_values)\n"
      ],
      "metadata": {
        "colab": {
          "base_uri": "https://localhost:8080/"
        },
        "id": "wzwccwPxExYf",
        "outputId": "f1c97d00-c09a-4e5f-9bb0-56b948689649"
      },
      "execution_count": null,
      "outputs": [
        {
          "output_type": "stream",
          "name": "stdout",
          "text": [
            "txn_id                         0\n",
            "dt_txn_comp                    0\n",
            "txn_comp_time                  0\n",
            "txn_type                       0\n",
            "txn_subtype                    0\n",
            "initiating_channel_id          0\n",
            "txn_status                     0\n",
            "error_code                 50768\n",
            "payer_psp                      0\n",
            "payee_psp                      0\n",
            "remitter_bank                  0\n",
            "beneficiary_bank               0\n",
            "payer_handle                   0\n",
            "payer_app                      0\n",
            "payee_handle                   0\n",
            "payee_app                      0\n",
            "payee_requested_amount         0\n",
            "payee_settlement_amount        0\n",
            "payer_location                 0\n",
            "payer_city                     0\n",
            "payer_state                    0\n",
            "payee_location                 0\n",
            "payee_city                     0\n",
            "payee_state                    0\n",
            "payer_os_type                  0\n",
            "payee_os_type                  0\n",
            "beneficiary_mcc_code           0\n",
            "remitter_mcc_code              0\n",
            "custref_transaction_ref        0\n",
            "cred_type                      0\n",
            "cred_subtype                   0\n",
            "payer_app_id                   0\n",
            "payee_app_id                   0\n",
            "initiation_mode                0\n",
            "dt_time_txn_compl              0\n",
            "time_of_day                    0\n",
            "@dropdown                  55671\n",
            "dtype: int64\n"
          ]
        }
      ]
    },
    {
      "cell_type": "code",
      "source": [
        "if '@dropdown' in data.columns:                                           #this is how we drop columns\n",
        "    data.drop(columns=['@dropdown'], inplace=True)"
      ],
      "metadata": {
        "id": "UzDfAECkFm-c"
      },
      "execution_count": null,
      "outputs": []
    },
    {
      "cell_type": "code",
      "source": [
        "missing_values = data.isnull().sum()"
      ],
      "metadata": {
        "id": "mSuzmf5LFqRq"
      },
      "execution_count": null,
      "outputs": []
    },
    {
      "cell_type": "code",
      "source": [
        "print(missing_values)\n"
      ],
      "metadata": {
        "colab": {
          "base_uri": "https://localhost:8080/"
        },
        "id": "BmR-AYgcGD4i",
        "outputId": "65f6a8ee-3a6c-4f98-b076-8e57dd60c48e"
      },
      "execution_count": null,
      "outputs": [
        {
          "output_type": "stream",
          "name": "stdout",
          "text": [
            "txn_id                         0\n",
            "dt_txn_comp                    0\n",
            "txn_comp_time                  0\n",
            "txn_type                       0\n",
            "txn_subtype                    0\n",
            "initiating_channel_id          0\n",
            "txn_status                     0\n",
            "error_code                 50768\n",
            "payer_psp                      0\n",
            "payee_psp                      0\n",
            "remitter_bank                  0\n",
            "beneficiary_bank               0\n",
            "payer_handle                   0\n",
            "payer_app                      0\n",
            "payee_handle                   0\n",
            "payee_app                      0\n",
            "payee_requested_amount         0\n",
            "payee_settlement_amount        0\n",
            "payer_location                 0\n",
            "payer_city                     0\n",
            "payer_state                    0\n",
            "payee_location                 0\n",
            "payee_city                     0\n",
            "payee_state                    0\n",
            "payer_os_type                  0\n",
            "payee_os_type                  0\n",
            "beneficiary_mcc_code           0\n",
            "remitter_mcc_code              0\n",
            "custref_transaction_ref        0\n",
            "cred_type                      0\n",
            "cred_subtype                   0\n",
            "payer_app_id                   0\n",
            "payee_app_id                   0\n",
            "initiation_mode                0\n",
            "dt_time_txn_compl              0\n",
            "time_of_day                    0\n",
            "dtype: int64\n"
          ]
        }
      ]
    },
    {
      "cell_type": "code",
      "source": [],
      "metadata": {
        "id": "lt8xS-AHGGOg"
      },
      "execution_count": null,
      "outputs": []
    }
  ]
}